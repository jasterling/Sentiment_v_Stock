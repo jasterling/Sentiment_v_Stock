{
 "cells": [
  {
   "cell_type": "code",
   "execution_count": 14,
   "metadata": {
    "ExecuteTime": {
     "end_time": "2018-05-30T21:07:00.932602Z",
     "start_time": "2018-05-30T21:07:00.930038Z"
    }
   },
   "outputs": [],
   "source": [
    "import pandas as pd\n",
    "import numpy as np\n",
    "import pickle"
   ]
  },
  {
   "cell_type": "markdown",
   "metadata": {
    "heading_collapsed": true
   },
   "source": [
    "### Prelim master definition"
   ]
  },
  {
   "cell_type": "code",
   "execution_count": 71,
   "metadata": {
    "ExecuteTime": {
     "end_time": "2018-05-24T01:57:00.166180Z",
     "start_time": "2018-05-24T01:57:00.158917Z"
    },
    "hidden": true
   },
   "outputs": [],
   "source": [
    "# df = pd.read_csv('../../tweet_data_all/amzn_tweets2.csv')\n",
    "# df.drop('Unnamed: 0', axis=1, inplace=True)"
   ]
  },
  {
   "cell_type": "code",
   "execution_count": 81,
   "metadata": {
    "ExecuteTime": {
     "end_time": "2018-05-24T02:07:55.227047Z",
     "start_time": "2018-05-24T02:07:55.220361Z"
    },
    "hidden": true
   },
   "outputs": [],
   "source": [
    "tweet_master = pd.read_csv('../../tweet_data_all/amzn_tweets1_master.csv')"
   ]
  },
  {
   "cell_type": "code",
   "execution_count": 82,
   "metadata": {
    "ExecuteTime": {
     "end_time": "2018-05-24T02:08:02.292257Z",
     "start_time": "2018-05-24T02:08:02.286327Z"
    },
    "hidden": true
   },
   "outputs": [
    {
     "name": "stdout",
     "output_type": "stream",
     "text": [
      "<class 'pandas.core.frame.DataFrame'>\n",
      "RangeIndex: 416 entries, 0 to 415\n",
      "Data columns (total 6 columns):\n",
      "Unnamed: 0       416 non-null object\n",
      "id               416 non-null object\n",
      "text             415 non-null object\n",
      "created_at       415 non-null object\n",
      "place            4 non-null object\n",
      "user_location    284 non-null object\n",
      "dtypes: object(6)\n",
      "memory usage: 19.6+ KB\n"
     ]
    }
   ],
   "source": [
    "tweet_master.info()"
   ]
  },
  {
   "cell_type": "code",
   "execution_count": 83,
   "metadata": {
    "ExecuteTime": {
     "end_time": "2018-05-24T02:08:05.102753Z",
     "start_time": "2018-05-24T02:08:05.099662Z"
    },
    "hidden": true
   },
   "outputs": [],
   "source": [
    "tweet_master.drop('Unnamed: 0', axis=1, inplace=True)"
   ]
  },
  {
   "cell_type": "code",
   "execution_count": 84,
   "metadata": {
    "ExecuteTime": {
     "end_time": "2018-05-24T02:08:06.641354Z",
     "start_time": "2018-05-24T02:08:06.636214Z"
    },
    "hidden": true
   },
   "outputs": [
    {
     "name": "stdout",
     "output_type": "stream",
     "text": [
      "<class 'pandas.core.frame.DataFrame'>\n",
      "RangeIndex: 416 entries, 0 to 415\n",
      "Data columns (total 5 columns):\n",
      "id               416 non-null object\n",
      "text             415 non-null object\n",
      "created_at       415 non-null object\n",
      "place            4 non-null object\n",
      "user_location    284 non-null object\n",
      "dtypes: object(5)\n",
      "memory usage: 16.3+ KB\n"
     ]
    }
   ],
   "source": [
    "tweet_master.info()"
   ]
  },
  {
   "cell_type": "code",
   "execution_count": 85,
   "metadata": {
    "ExecuteTime": {
     "end_time": "2018-05-24T02:08:18.482187Z",
     "start_time": "2018-05-24T02:08:18.475173Z"
    },
    "hidden": true
   },
   "outputs": [],
   "source": [
    "tweet_master.to_csv('tweet_data/tweet_master.csv', index=False)"
   ]
  },
  {
   "cell_type": "markdown",
   "metadata": {},
   "source": [
    "### Appending docs..."
   ]
  },
  {
   "cell_type": "code",
   "execution_count": 2,
   "metadata": {
    "ExecuteTime": {
     "end_time": "2018-05-30T21:04:08.169594Z",
     "start_time": "2018-05-30T21:04:08.087331Z"
    }
   },
   "outputs": [
    {
     "name": "stdout",
     "output_type": "stream",
     "text": [
      "<class 'pandas.core.frame.DataFrame'>\n",
      "RangeIndex: 10001 entries, 0 to 10000\n",
      "Data columns (total 6 columns):\n",
      "Unnamed: 0       10001 non-null object\n",
      "id               10001 non-null object\n",
      "text             10000 non-null object\n",
      "created_at       10000 non-null object\n",
      "place            53 non-null object\n",
      "user_location    7754 non-null object\n",
      "dtypes: object(6)\n",
      "memory usage: 468.9+ KB\n"
     ]
    }
   ],
   "source": [
    "# last double check...\n",
    "df_test = pd.read_csv('../../tweet_data_all/amzn_tweets_ext8.csv', engine='python')\n",
    "df_test.info()"
   ]
  },
  {
   "cell_type": "code",
   "execution_count": 3,
   "metadata": {
    "ExecuteTime": {
     "end_time": "2018-05-30T21:04:14.830170Z",
     "start_time": "2018-05-30T21:04:14.822604Z"
    }
   },
   "outputs": [],
   "source": [
    "# change MASTER filepath...\n",
    "\n",
    "def append_to_master(partial_csv_name):\n",
    "    df_partial = pd.read_csv('../../tweet_data_all/'+partial_csv_name+'.csv', engine='python')\n",
    "    df_partial.drop('Unnamed: 0', axis=1, inplace=True)\n",
    "    with open('tweet_data/tweet_master.csv', 'a') as f:\n",
    "        df_partial.to_csv(f, header=False, index=False)\n",
    "        \n",
    "    new_master = pd.read_csv('tweet_data/tweet_master.csv', engine='python')\n",
    "    return (new_master.info())"
   ]
  },
  {
   "cell_type": "code",
   "execution_count": null,
   "metadata": {},
   "outputs": [],
   "source": [
    "file_list = ['amzn_tweets2','amzn_tweets3', 'amzn_tweets4', 'amzn_tweets5', 'amzn_tweets6', \n",
    "             'amzn_tweets7', 'amzn_tweets8', 'amzn_tweets9', 'amzn_tweets10', 'amzn_tweets11', \n",
    "             'amzn_tweets_ext1', 'amzn_tweets_ext3', 'amzn_tweets_ext4', 'amzn_tweets_ext5', \n",
    "             'amzn_tweets_ext6','amzn_tweets_ext7','amzn_tweets_ext8','amzn_tweets_ext9',\n",
    "            'amzn_tweets_ext10','amzn_tweets_ext11','amzn_tweets_ext12','amzn_tweets_ext13', \n",
    "            'amzn_tweets_ext14','amzn_tweets_ext15','amzn_tweets_ext16','amzn_tweets_ext17']"
   ]
  },
  {
   "cell_type": "code",
   "execution_count": 13,
   "metadata": {
    "ExecuteTime": {
     "end_time": "2018-05-30T21:06:12.509779Z",
     "start_time": "2018-05-30T21:06:05.052365Z"
    },
    "scrolled": false
   },
   "outputs": [
    {
     "name": "stdout",
     "output_type": "stream",
     "text": [
      "<class 'pandas.core.frame.DataFrame'>\n",
      "RangeIndex: 984737 entries, 0 to 984736\n",
      "Data columns (total 5 columns):\n",
      "id               984673 non-null object\n",
      "text             984609 non-null object\n",
      "created_at       984600 non-null object\n",
      "place            5741 non-null object\n",
      "user_location    759560 non-null object\n",
      "dtypes: object(5)\n",
      "memory usage: 37.6+ MB\n"
     ]
    }
   ],
   "source": [
    "append_to_master('amzn_tweets_ext17')"
   ]
  },
  {
   "cell_type": "code",
   "execution_count": 15,
   "metadata": {
    "ExecuteTime": {
     "end_time": "2018-05-30T21:08:24.218020Z",
     "start_time": "2018-05-30T21:08:16.871708Z"
    }
   },
   "outputs": [],
   "source": [
    "# pickle the file for future... \n",
    "df_pickle = pd.read_csv('tweet_data/tweet_master.csv', engine='python')\n",
    "df_pickle.to_pickle('tweet_data/tweet_master.pkl')"
   ]
  },
  {
   "cell_type": "markdown",
   "metadata": {
    "heading_collapsed": true
   },
   "source": [
    "## Reference"
   ]
  },
  {
   "cell_type": "code",
   "execution_count": 35,
   "metadata": {
    "ExecuteTime": {
     "end_time": "2018-05-24T01:38:35.358017Z",
     "start_time": "2018-05-24T01:38:35.348187Z"
    },
    "hidden": true
   },
   "outputs": [],
   "source": [
    "df_tmast = pd.DataFrame({'col1':[1, 2, 3], 'col2':[4, 5, 6], 'col3':[7, 8, 9]})\n",
    "df_tmast.to_csv('df_tmast.csv')\n",
    "\n",
    "df_t1 = pd.DataFrame({'col1':['a', 'b', 'c'], 'col2':['d', 'e', 'f'], 'col3':['g', 'h', 'i']})\n",
    "df_t1.to_csv('df_t1.csv')"
   ]
  },
  {
   "cell_type": "code",
   "execution_count": 50,
   "metadata": {
    "ExecuteTime": {
     "end_time": "2018-05-24T01:44:14.562211Z",
     "start_time": "2018-05-24T01:44:14.552696Z"
    },
    "hidden": true
   },
   "outputs": [
    {
     "data": {
      "text/html": [
       "<div>\n",
       "<style scoped>\n",
       "    .dataframe tbody tr th:only-of-type {\n",
       "        vertical-align: middle;\n",
       "    }\n",
       "\n",
       "    .dataframe tbody tr th {\n",
       "        vertical-align: top;\n",
       "    }\n",
       "\n",
       "    .dataframe thead th {\n",
       "        text-align: right;\n",
       "    }\n",
       "</style>\n",
       "<table border=\"1\" class=\"dataframe\">\n",
       "  <thead>\n",
       "    <tr style=\"text-align: right;\">\n",
       "      <th></th>\n",
       "      <th>col1</th>\n",
       "      <th>col2</th>\n",
       "      <th>col3</th>\n",
       "    </tr>\n",
       "  </thead>\n",
       "  <tbody>\n",
       "    <tr>\n",
       "      <th>0</th>\n",
       "      <td>1</td>\n",
       "      <td>4</td>\n",
       "      <td>7</td>\n",
       "    </tr>\n",
       "    <tr>\n",
       "      <th>1</th>\n",
       "      <td>2</td>\n",
       "      <td>5</td>\n",
       "      <td>8</td>\n",
       "    </tr>\n",
       "    <tr>\n",
       "      <th>2</th>\n",
       "      <td>3</td>\n",
       "      <td>6</td>\n",
       "      <td>9</td>\n",
       "    </tr>\n",
       "  </tbody>\n",
       "</table>\n",
       "</div>"
      ],
      "text/plain": [
       "   col1  col2  col3\n",
       "0     1     4     7\n",
       "1     2     5     8\n",
       "2     3     6     9"
      ]
     },
     "execution_count": 50,
     "metadata": {},
     "output_type": "execute_result"
    }
   ],
   "source": [
    "df_tmast = pd.read_csv('tweet_data/df_tmast.csv')\n",
    "df_tmast.drop('Unnamed: 0', axis=1, inplace=True)\n",
    "df_tmast"
   ]
  },
  {
   "cell_type": "code",
   "execution_count": 51,
   "metadata": {
    "ExecuteTime": {
     "end_time": "2018-05-24T01:44:15.665414Z",
     "start_time": "2018-05-24T01:44:15.655981Z"
    },
    "hidden": true
   },
   "outputs": [
    {
     "data": {
      "text/html": [
       "<div>\n",
       "<style scoped>\n",
       "    .dataframe tbody tr th:only-of-type {\n",
       "        vertical-align: middle;\n",
       "    }\n",
       "\n",
       "    .dataframe tbody tr th {\n",
       "        vertical-align: top;\n",
       "    }\n",
       "\n",
       "    .dataframe thead th {\n",
       "        text-align: right;\n",
       "    }\n",
       "</style>\n",
       "<table border=\"1\" class=\"dataframe\">\n",
       "  <thead>\n",
       "    <tr style=\"text-align: right;\">\n",
       "      <th></th>\n",
       "      <th>col1</th>\n",
       "      <th>col2</th>\n",
       "      <th>col3</th>\n",
       "    </tr>\n",
       "  </thead>\n",
       "  <tbody>\n",
       "    <tr>\n",
       "      <th>0</th>\n",
       "      <td>1</td>\n",
       "      <td>4</td>\n",
       "      <td>7</td>\n",
       "    </tr>\n",
       "    <tr>\n",
       "      <th>1</th>\n",
       "      <td>2</td>\n",
       "      <td>5</td>\n",
       "      <td>8</td>\n",
       "    </tr>\n",
       "    <tr>\n",
       "      <th>2</th>\n",
       "      <td>3</td>\n",
       "      <td>6</td>\n",
       "      <td>9</td>\n",
       "    </tr>\n",
       "  </tbody>\n",
       "</table>\n",
       "</div>"
      ],
      "text/plain": [
       "   col1  col2  col3\n",
       "0     1     4     7\n",
       "1     2     5     8\n",
       "2     3     6     9"
      ]
     },
     "execution_count": 51,
     "metadata": {},
     "output_type": "execute_result"
    }
   ],
   "source": [
    "df_tmast.to_csv('df_tmast2.csv', index=False)\n",
    "df_tmast = pd.read_csv('df_tmast2.csv')\n",
    "df_tmast"
   ]
  },
  {
   "cell_type": "markdown",
   "metadata": {
    "hidden": true
   },
   "source": [
    "#### Append to master process:\n",
    "1. Read in master --> drop index --> save master\n",
    "2. Read in partial.csv --> drop index --> append to master"
   ]
  },
  {
   "cell_type": "code",
   "execution_count": 59,
   "metadata": {
    "ExecuteTime": {
     "end_time": "2018-05-24T01:53:28.926354Z",
     "start_time": "2018-05-24T01:53:28.914991Z"
    },
    "hidden": true
   },
   "outputs": [],
   "source": [
    "def to_master_csv(partial_csv_name):\n",
    "    df_partial = pd.read_csv('tweet_data/'+partial_csv_name+'.csv')\n",
    "    df_partial.drop('Unnamed: 0', axis=1, inplace=True)\n",
    "    \n",
    "#     df_master = pd.read_csv('tweet_data/'+master_csv_name+'.csv')\n",
    "#     print('Pre-Merge master csv length:  {}'.format(len(df_master)))\n",
    "    with open('tweet_data/df_tmast.csv', 'a') as f:\n",
    "        df_partial.to_csv(f, header=False)\n",
    "        \n",
    "#     df_master = pd.read_csv('tweet_data/'+master_csv_name+'.csv')\n",
    "#     print('Post-Merge master csv length:  {}'.format(len(df_master)))\n",
    "#     print(df_master.info())\n",
    "    df = pd.read_csv('tweet_data/df_tmast.csv', index_col=None)\n",
    "    return (df.info())\n",
    "\n",
    "\n"
   ]
  },
  {
   "cell_type": "code",
   "execution_count": 61,
   "metadata": {
    "ExecuteTime": {
     "end_time": "2018-05-24T01:53:39.033882Z",
     "start_time": "2018-05-24T01:53:39.023145Z"
    },
    "hidden": true
   },
   "outputs": [
    {
     "name": "stdout",
     "output_type": "stream",
     "text": [
      "<class 'pandas.core.frame.DataFrame'>\n",
      "RangeIndex: 6 entries, 0 to 5\n",
      "Data columns (total 4 columns):\n",
      "Unnamed: 0    6 non-null int64\n",
      "col1          6 non-null object\n",
      "col2          6 non-null object\n",
      "col3          6 non-null object\n",
      "dtypes: int64(1), object(3)\n",
      "memory usage: 272.0+ bytes\n"
     ]
    }
   ],
   "source": [
    "# Run it below:\n",
    "to_master_csv('df_t1')"
   ]
  },
  {
   "cell_type": "code",
   "execution_count": 28,
   "metadata": {
    "ExecuteTime": {
     "end_time": "2018-05-24T00:32:40.197036Z",
     "start_time": "2018-05-24T00:32:40.189829Z"
    },
    "hidden": true
   },
   "outputs": [
    {
     "data": {
      "text/html": [
       "<div>\n",
       "<style scoped>\n",
       "    .dataframe tbody tr th:only-of-type {\n",
       "        vertical-align: middle;\n",
       "    }\n",
       "\n",
       "    .dataframe tbody tr th {\n",
       "        vertical-align: top;\n",
       "    }\n",
       "\n",
       "    .dataframe thead th {\n",
       "        text-align: right;\n",
       "    }\n",
       "</style>\n",
       "<table border=\"1\" class=\"dataframe\">\n",
       "  <thead>\n",
       "    <tr style=\"text-align: right;\">\n",
       "      <th></th>\n",
       "      <th>0</th>\n",
       "      <th>1</th>\n",
       "      <th>4</th>\n",
       "      <th>7</th>\n",
       "    </tr>\n",
       "  </thead>\n",
       "  <tbody>\n",
       "    <tr>\n",
       "      <th>0</th>\n",
       "      <td>1</td>\n",
       "      <td>2</td>\n",
       "      <td>5</td>\n",
       "      <td>8</td>\n",
       "    </tr>\n",
       "    <tr>\n",
       "      <th>1</th>\n",
       "      <td>2</td>\n",
       "      <td>3</td>\n",
       "      <td>6</td>\n",
       "      <td>9</td>\n",
       "    </tr>\n",
       "    <tr>\n",
       "      <th>2</th>\n",
       "      <td>0</td>\n",
       "      <td>1</td>\n",
       "      <td>4</td>\n",
       "      <td>7</td>\n",
       "    </tr>\n",
       "    <tr>\n",
       "      <th>3</th>\n",
       "      <td>1</td>\n",
       "      <td>2</td>\n",
       "      <td>5</td>\n",
       "      <td>8</td>\n",
       "    </tr>\n",
       "    <tr>\n",
       "      <th>4</th>\n",
       "      <td>2</td>\n",
       "      <td>3</td>\n",
       "      <td>6</td>\n",
       "      <td>9</td>\n",
       "    </tr>\n",
       "  </tbody>\n",
       "</table>\n",
       "</div>"
      ],
      "text/plain": [
       "   0  1  4  7\n",
       "0  1  2  5  8\n",
       "1  2  3  6  9\n",
       "2  0  1  4  7\n",
       "3  1  2  5  8\n",
       "4  2  3  6  9"
      ]
     },
     "execution_count": 28,
     "metadata": {},
     "output_type": "execute_result"
    }
   ],
   "source": [
    "df.head()"
   ]
  }
 ],
 "metadata": {
  "kernelspec": {
   "display_name": "Python 3",
   "language": "python",
   "name": "python3"
  },
  "language_info": {
   "codemirror_mode": {
    "name": "ipython",
    "version": 3
   },
   "file_extension": ".py",
   "mimetype": "text/x-python",
   "name": "python",
   "nbconvert_exporter": "python",
   "pygments_lexer": "ipython3",
   "version": "3.6.4"
  }
 },
 "nbformat": 4,
 "nbformat_minor": 2
}
